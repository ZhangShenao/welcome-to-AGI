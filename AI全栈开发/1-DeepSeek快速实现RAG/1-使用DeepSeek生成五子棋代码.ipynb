{
 "cells": [
  {
   "cell_type": "markdown",
   "id": "5e179b2e-cb31-4f36-b76d-c7cea66144b1",
   "metadata": {},
   "source": [
    "## 初始化环境"
   ]
  },
  {
   "cell_type": "code",
   "execution_count": 1,
   "id": "1854c944-eabe-4c8d-ac5c-b2f4f63b8546",
   "metadata": {},
   "outputs": [],
   "source": [
    "import subprocess\n",
    "import os\n",
    "\n",
    "# 设置模型下载路径\n",
    "os.environ[\"HF_HOME\"] = \"/root/autodl-tmp/volume/hf\"\n",
    "os.environ[\"HF_HUB_CACHE\"] = \"/root/autodl-tmp/volume/hub\"\n",
    "\n",
    "# 设置HuggingFace镜像站\n",
    "os.environ[\"HF_ENDPOINT\"] = \"https://hf-mirror.com\""
   ]
  },
  {
   "cell_type": "markdown",
   "id": "5c989c78-126b-4cba-bd80-05a7b5a8fc6b",
   "metadata": {},
   "source": [
    "## 加载.env环境变量配置"
   ]
  },
  {
   "cell_type": "code",
   "execution_count": 2,
   "id": "09c04645-781f-42d6-a00e-9240ba001c4f",
   "metadata": {},
   "outputs": [
    {
     "data": {
      "text/plain": [
       "True"
      ]
     },
     "execution_count": 2,
     "metadata": {},
     "output_type": "execute_result"
    }
   ],
   "source": [
    "import dotenv\n",
    "\n",
    "# 加载环境变量\n",
    "dotenv.load_dotenv()"
   ]
  },
  {
   "cell_type": "markdown",
   "id": "2bf6e322-7e62-43ca-83c7-8b7d4764a242",
   "metadata": {},
   "source": [
    "## 初始化客户端"
   ]
  },
  {
   "cell_type": "code",
   "execution_count": 3,
   "id": "fef26618-d861-46b0-83a0-c66db8b601ea",
   "metadata": {},
   "outputs": [],
   "source": [
    "import os\n",
    "from openai import OpenAI\n",
    "\n",
    "# 创建DeepSeek客户端\n",
    "# DeepSeek官方兼容OpenAI的SDK\n",
    "client = OpenAI(api_key=os.getenv(\"DEEPSEEK_API_KEY\"),\n",
    "                base_url=os.getenv(\"DEEPSEEK_API_BASE\"))"
   ]
  },
  {
   "cell_type": "markdown",
   "id": "ff0c3121-f965-4fa0-804b-bf170dda0e45",
   "metadata": {},
   "source": [
    "## 简单聊天"
   ]
  },
  {
   "cell_type": "code",
   "execution_count": 4,
   "id": "8f705468-ebc4-4d9f-b0d5-6a6325d5798e",
   "metadata": {},
   "outputs": [
    {
     "name": "stdout",
     "output_type": "stream",
     "text": [
      "你好呀！😊 很高兴见到你～今天有什么想聊的或者需要帮忙的吗？\n"
     ]
    }
   ],
   "source": [
    "import os\n",
    "from openai import OpenAI\n",
    "\n",
    "response = client.chat.completions.create(\n",
    "    model=\"deepseek-chat\",  # 使用DeepSeek-V3 Chat Model\n",
    "    messages=[\n",
    "        {\"role\": \"system\", \"content\": \"你是一个智能助理\"},\n",
    "        {\"role\": \"user\", \"content\": \"你好呀~\"},\n",
    "    ],\n",
    "    stream=False\n",
    ")\n",
    "\n",
    "print(response.choices[0].message.content)"
   ]
  },
  {
   "cell_type": "markdown",
   "id": "8924cf4b-94c8-4ae4-8692-0df3a02aba5c",
   "metadata": {},
   "source": [
    "## 代码生成"
   ]
  },
  {
   "cell_type": "code",
   "execution_count": 10,
   "id": "14dc02a3-4736-45f7-a2da-1978123fac95",
   "metadata": {},
   "outputs": [
    {
     "name": "stdout",
     "output_type": "stream",
     "text": [
      "五子棋游戏已保存为: 五子棋.md\n"
     ]
    }
   ],
   "source": [
    "import os\n",
    "from openai import OpenAI\n",
    "\n",
    "# 定义提示词\n",
    "prompt = \"\"\"请帮我用 HTML 生成一个五子棋游戏，所有代码都保存在一个 Markdown 文件中。\"\"\"\n",
    "\n",
    "try:\n",
    "    response = client.chat.completions.create(\n",
    "        model=\"deepseek-chat\",  # 使用DeepSeek-V3 Chat Model\n",
    "        messages=[\n",
    "            {\"role\": \"system\", \"content\": \"你是一个专业的 Web 开发助手，擅长用 HTML/CSS/JavaScript 编写游戏。\"},\n",
    "            {\"role\": \"user\", \"content\": prompt}\n",
    "        ],\n",
    "        temperature=0.7,\n",
    "        stream=False\n",
    "    )\n",
    "\n",
    "    # 提取生成的 HTML 内容\n",
    "    if response.choices is None or len(response.choices) == 0:\n",
    "        raise Exception(\"未收到有效响应\")\n",
    "\n",
    "    # 提取生成内容\n",
    "    html_content = response.choices[0].message.content\n",
    "    \n",
    "    # 保存到文件\n",
    "    with open(\"./五子棋.md\", \"w\", encoding=\"utf-8\") as f:\n",
    "        f.write(html_content)\n",
    "    print(\"五子棋游戏已保存为: 五子棋.md\")\n",
    "\n",
    "except Exception as e:\n",
    "    print(f\"调用 API 出错: {e}\")"
   ]
  }
 ],
 "metadata": {
  "kernelspec": {
   "display_name": "Python 3 (ipykernel)",
   "language": "python",
   "name": "python3"
  },
  "language_info": {
   "codemirror_mode": {
    "name": "ipython",
    "version": 3
   },
   "file_extension": ".py",
   "mimetype": "text/x-python",
   "name": "python",
   "nbconvert_exporter": "python",
   "pygments_lexer": "ipython3",
   "version": "3.10.8"
  }
 },
 "nbformat": 4,
 "nbformat_minor": 5
}
